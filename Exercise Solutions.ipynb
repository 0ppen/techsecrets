{
 "cells": [
  {
   "cell_type": "markdown",
   "metadata": {},
   "source": [
    "# Selected Exercise Solutions"
   ]
  },
  {
   "cell_type": "markdown",
   "metadata": {},
   "source": [
    "## 3. Thinking in Binary"
   ]
  },
  {
   "cell_type": "markdown",
   "metadata": {},
   "source": [
    "### 2."
   ]
  },
  {
   "cell_type": "markdown",
   "metadata": {},
   "source": [
    "A simple solution:"
   ]
  },
  {
   "cell_type": "code",
   "execution_count": 1,
   "metadata": {
    "collapsed": false
   },
   "outputs": [
    {
     "data": {
      "text/plain": [
       "('9', '0b1001', '0x9')"
      ]
     },
     "execution_count": 1,
     "metadata": {},
     "output_type": "execute_result"
    }
   ],
   "source": [
    "def convert(number):\n",
    "    return str(number), bin(number), hex(number)\n",
    "\n",
    "convert(0b1001)"
   ]
  },
  {
   "cell_type": "markdown",
   "metadata": {},
   "source": [
    "The exercise says that we should only output the two _other_ formats. As far as I'm aware, it's not possible for a Python script to distinguish between integer literals (without hacking the Python parser), so we'll use a string as the input instead:"
   ]
  },
  {
   "cell_type": "code",
   "execution_count": 2,
   "metadata": {
    "collapsed": false
   },
   "outputs": [
    {
     "data": {
      "text/plain": [
       "('9', '0x9')"
      ]
     },
     "execution_count": 2,
     "metadata": {},
     "output_type": "execute_result"
    }
   ],
   "source": [
    "def convert2(string_number):\n",
    "    if string_number[1] == \"x\":\n",
    "        num = int(string_number, 16)\n",
    "        return str(num), bin(num)\n",
    "    elif string_number[1] == \"b\":\n",
    "        num = int(string_number, 2)\n",
    "        return str(num), hex(num)\n",
    "    else:\n",
    "        num = int(string_number)\n",
    "        return bin(num), hex(num)\n",
    "    \n",
    "convert2(\"0b1001\")"
   ]
  },
  {
   "cell_type": "markdown",
   "metadata": {},
   "source": [
    "### 5."
   ]
  },
  {
   "cell_type": "markdown",
   "metadata": {},
   "source": [
    "There are several ways of doing this, but the fastest way I've found so far (that doesn't involve writing C code or anything crazy) uses bitwise operations. This encoder is based on code for a base32 encoder taken from the `base64` module.\n",
    "\n",
    "We first need to generate a base64 dictionary. To avoid mistakes, I've copied out the standard base64 dictionary, but you could generate this programmatically:"
   ]
  },
  {
   "cell_type": "code",
   "execution_count": 3,
   "metadata": {
    "collapsed": true
   },
   "outputs": [],
   "source": [
    "b64 = {0:\"A\", 1:\"B\", 2:\"C\", 3:\"D\", 4:\"E\", 5:\"F\", 6:\"G\", 7:\"H\", 8:\"I\", 9:\"J\", 10:\"K\", 11:\"L\", 12:\"M\", 13:\"N\", 14:\"O\", 15:\"P\", 16:\"Q\", 17:\"R\", 18:\"S\", 19:\"T\", 20:\"U\", 21:\"V\", 22:\"W\", 23:\"X\", 24:\"Y\", 25:\"Z\", 26:\"a\", 27:\"b\", 28:\"c\", 29:\"d\", 30:\"e\", 31:\"f\", 32:\"g\", 33:\"h\", 34:\"i\", 35:\"j\", 36:\"k\", 37:\"l\", 38:\"m\", 39:\"n\", 40:\"o\", 41:\"p\", 42:\"q\", 43:\"r\", 44:\"s\", 45:\"t\", 46:\"u\", 47:\"v\", 48:\"w\", 49:\"x\", 50:\"y\", 51:\"z\", 52:\"0\", 53:\"1\", 54:\"2\", 55:\"3\", 56:\"4\", 57:\"5\", 58:\"6\", 59:\"7\", 60:\"8\", 61:\"9\", 62:\"+\", 63:\"/\"}"
   ]
  },
  {
   "cell_type": "markdown",
   "metadata": {},
   "source": [
    "We also need the `struct` module:"
   ]
  },
  {
   "cell_type": "code",
   "execution_count": 4,
   "metadata": {
    "collapsed": true
   },
   "outputs": [],
   "source": [
    "import struct"
   ]
  },
  {
   "cell_type": "markdown",
   "metadata": {},
   "source": [
    "Remember that if the string's character length isn't a multiple of three, we'll have to pad the encoded string with `=`. Notice how we build the encoded string by analyzing it in chunks of three bytes (24 bits) at a time. The `struct.unpack(3B, string)` function is the same as calling `ord` on all three characters in `string` (but faster). The bitwise operations simply shift and concatenate each set of 24 bits to convert them from three sets of 8 bits to four sets of 6 bits."
   ]
  },
  {
   "cell_type": "code",
   "execution_count": 5,
   "metadata": {
    "collapsed": false
   },
   "outputs": [],
   "source": [
    "def slow_b64encode(string):\n",
    "    \n",
    "    encode = []\n",
    "    quanta, leftover = divmod(len(string), 3)\n",
    "\n",
    "    if leftover:\n",
    "        string += '\\0' * (3 - leftover)\n",
    "        quanta += 1\n",
    "    \n",
    "    for i in xrange(quanta):\n",
    "        b0, b1, b2 = struct.unpack('3B', string[i*3:(i+1)*3])\n",
    "        encode.extend([b64[b0 >> 2], \n",
    "                       b64[(b0 & 0b11) << 4 | b1 >> 4], \n",
    "                       b64[(b1 & 0b1111) << 2 | b2 >> 6], \n",
    "                       b64[(b2 &  0b111111)]])\n",
    "    \n",
    "    encoded = ''.join(encode)\n",
    "    \n",
    "    if leftover == 1:\n",
    "        return encoded[:-2] + \"==\"\n",
    "    elif leftover == 2:\n",
    "        return encoded[:-1] + \"=\"\n",
    "    return encoded"
   ]
  },
  {
   "cell_type": "markdown",
   "metadata": {},
   "source": [
    "Testing:"
   ]
  },
  {
   "cell_type": "code",
   "execution_count": 6,
   "metadata": {
    "collapsed": false
   },
   "outputs": [
    {
     "data": {
      "text/plain": [
       "True"
      ]
     },
     "execution_count": 6,
     "metadata": {},
     "output_type": "execute_result"
    }
   ],
   "source": [
    "from base64 import b64encode\n",
    "\n",
    "string = \"Please encode me\"\n",
    "slow_b64encode(string) == b64encode(string)"
   ]
  },
  {
   "cell_type": "markdown",
   "metadata": {},
   "source": [
    "The decoder is left for you to try on your own!"
   ]
  },
  {
   "cell_type": "markdown",
   "metadata": {},
   "source": [
    "### 7."
   ]
  },
  {
   "cell_type": "code",
   "execution_count": 7,
   "metadata": {
    "collapsed": true
   },
   "outputs": [],
   "source": [
    "def ROR(num, size=None):\n",
    "\n",
    "    if size is None:\n",
    "        size = num.bit_length()\n",
    "    else:\n",
    "        size = max(size, num.bit_length())\n",
    "    \n",
    "    return bin((num >> 1) | (num & 1) << (size - 1))"
   ]
  },
  {
   "cell_type": "markdown",
   "metadata": {},
   "source": [
    "The function `ROR` takes an integer `num` and rotates it to right by one bit. If `size` is not given, the function assumes that the intended size of the integer is `num.bit_length()`. If you specify a different size, the function will use that size as the integer bit length (with `max` used to avoid truncation in case the given `size` is smaller than `num.bit_length()`). For example:"
   ]
  },
  {
   "cell_type": "code",
   "execution_count": 8,
   "metadata": {
    "collapsed": false
   },
   "outputs": [
    {
     "data": {
      "text/plain": [
       "'0b1100'"
      ]
     },
     "execution_count": 8,
     "metadata": {},
     "output_type": "execute_result"
    }
   ],
   "source": [
    "ROR(0b1001)"
   ]
  },
  {
   "cell_type": "code",
   "execution_count": 9,
   "metadata": {
    "collapsed": false
   },
   "outputs": [
    {
     "data": {
      "text/plain": [
       "'0b10000100'"
      ]
     },
     "execution_count": 9,
     "metadata": {},
     "output_type": "execute_result"
    }
   ],
   "source": [
    "ROR(0b1001, size=8)"
   ]
  },
  {
   "cell_type": "markdown",
   "metadata": {},
   "source": [
    "If you're having trouble understanding the bitwise operations, think of them this way:\n",
    "\n",
    "    1. Identify the rightmost bit with (num & 1).\n",
    "    2. Create a new number by shifting the rightmost bit to the left by (size - 1) spots. For example, if the last bit is 1 and size = 8, then we have 0b10000000.\n",
    "    3. Shift the original number to the right by one spot with (num >> 1) so the last bit \"falls off\" the end. \n",
    "    4. Combine the numbers found in steps 2 and 3. The original rightmost bit is now the leftmost bit. \n",
    "    \n",
    "The equivalent `ROL` function is slightly more complicated:"
   ]
  },
  {
   "cell_type": "code",
   "execution_count": 10,
   "metadata": {
    "collapsed": false
   },
   "outputs": [],
   "source": [
    "def ROL(num, size=None):\n",
    "    if size is None:\n",
    "        size = num.bit_length()\n",
    "    else:\n",
    "        size = max(size, num.bit_length())\n",
    "\n",
    "    return bin((num << 1) & ((2**size) - 1) | ((num & (2**(size - 1))) >> (size - 1)))"
   ]
  },
  {
   "cell_type": "markdown",
   "metadata": {},
   "source": [
    "`2**X` is a shortcut for getting the binary number with `1` at the (X + 1)th position, and zeros elsewhere. `(2**X) - 1` returns the binary number of size `X` with `1`s in all positions. We use these shortcuts to get masks for the leftmost bit, and for every bit except the leftmost bit, respectively."
   ]
  },
  {
   "cell_type": "code",
   "execution_count": 11,
   "metadata": {
    "collapsed": false
   },
   "outputs": [
    {
     "data": {
      "text/plain": [
       "'0b11'"
      ]
     },
     "execution_count": 11,
     "metadata": {},
     "output_type": "execute_result"
    }
   ],
   "source": [
    "ROL(0b1001)"
   ]
  },
  {
   "cell_type": "code",
   "execution_count": 12,
   "metadata": {
    "collapsed": false
   },
   "outputs": [
    {
     "data": {
      "text/plain": [
       "'0b10010'"
      ]
     },
     "execution_count": 12,
     "metadata": {},
     "output_type": "execute_result"
    }
   ],
   "source": [
    "ROL(0b1001, size=16)"
   ]
  },
  {
   "cell_type": "markdown",
   "metadata": {},
   "source": [
    "Note that we could also write functions that efficiently shift more than one bit at the same time. For instance, see https://www.falatic.com/index.php/108/python-and-bitwise-rotation"
   ]
  },
  {
   "cell_type": "markdown",
   "metadata": {},
   "source": [
    "### 8."
   ]
  },
  {
   "cell_type": "markdown",
   "metadata": {},
   "source": [
    "One way to do this is to register a new encoding error option with the `codecs` module:"
   ]
  },
  {
   "cell_type": "code",
   "execution_count": 13,
   "metadata": {
    "collapsed": false
   },
   "outputs": [],
   "source": [
    "from __future__ import unicode_literals\n",
    "import codecs\n",
    "import unicodedata\n",
    "\n",
    "def unicode_name(ex):\n",
    "    \"\"\"The object `ex` follows the \n",
    "    UnicodeError exception format. See:\n",
    "    https://docs.python.org/2/library/exceptions.html#exceptions.UnicodeError\"\"\"\n",
    "    \n",
    "    char = ex.object[ex.start:ex.end]\n",
    "    return \"{\" + unicodedata.name(char, \"unknown\") + \"}\", ex.end\n",
    "\n",
    "codecs.register_error(\"name\", unicode_name)"
   ]
  },
  {
   "cell_type": "markdown",
   "metadata": {},
   "source": [
    "`unicode_name` is an error handler that takes a `UnicodeError` object as an argument, and returns the name of the Unicode character that raised the encoding error. See https://docs.python.org/2/library/codecs.html#codecs.register_error for more information. The `unicodedata` module is used to produce the name of the Unicode character.\n",
    "\n",
    "`to_asicii` encodes `string` using the ASCII encoding, handling errors with `unicode_name`, which we registered previously as an error option called `name`:"
   ]
  },
  {
   "cell_type": "code",
   "execution_count": 14,
   "metadata": {
    "collapsed": true
   },
   "outputs": [],
   "source": [
    "def to_ascii(string):\n",
    "    return string.encode(\"ascii\", errors=\"name\")"
   ]
  },
  {
   "cell_type": "code",
   "execution_count": 15,
   "metadata": {
    "collapsed": false
   },
   "outputs": [
    {
     "name": "stdout",
     "output_type": "stream",
     "text": [
      "{DAGGER} and {BLACK RIGHT-POINTING POINTER}\n",
      "{YEN SIGN} and {POUND SIGN}\n"
     ]
    }
   ],
   "source": [
    "print to_ascii(u\"† and ►\")\n",
    "print to_ascii(u\"\\u00A5 and \\u00A3\")"
   ]
  },
  {
   "cell_type": "markdown",
   "metadata": {},
   "source": [
    "If you're on a \"narrow\" Python build (i.e., UCS-2 under the hood), `unicodedata.name` will not support Unicode code points above `\\uffff`, so this function won't work for, say, `\\U0001F330`. You can find the highest-supported Unicode code point on your system by calling `sys.maxunicode`:"
   ]
  },
  {
   "cell_type": "code",
   "execution_count": 16,
   "metadata": {
    "collapsed": false
   },
   "outputs": [
    {
     "name": "stdout",
     "output_type": "stream",
     "text": [
      "0xffff\n"
     ]
    }
   ],
   "source": [
    "import sys\n",
    "print hex(sys.maxunicode)"
   ]
  },
  {
   "cell_type": "markdown",
   "metadata": {},
   "source": [
    "Python 3 has no such limitations, as most Python 3 versions (>=3.3) support code points up to `0x10FFFF` (the maximum possible code point). Since our script is compatible with Python 3, we can run it with the cell magic `%%python3` (you may need to install Python 3 on your system):"
   ]
  },
  {
   "cell_type": "code",
   "execution_count": 17,
   "metadata": {
    "collapsed": false
   },
   "outputs": [
    {
     "name": "stdout",
     "output_type": "stream",
     "text": [
      "b'A {CHESTNUT}'\n"
     ]
    }
   ],
   "source": [
    "%%python3\n",
    "# from __future__ import unicode_literals\n",
    "import codecs\n",
    "import unicodedata\n",
    "\n",
    "def unicode_name(ex):\n",
    "    \"\"\"The object `ex` follows the UnicodeError exception format. See:\n",
    "    https://docs.python.org/2/library/exceptions.html#exceptions.UnicodeError\"\"\"\n",
    "    \n",
    "    char = ex.object[ex.start:ex.end]\n",
    "    return \"{\" + unicodedata.name(char, \"unknown\") + \"}\", ex.end\n",
    "\n",
    "codecs.register_error(\"name\", unicode_name)\n",
    "\n",
    "def to_ascii(string):\n",
    "    return string.encode(\"ascii\", errors=\"name\")\n",
    "\n",
    "print(to_ascii(u\"A \\U0001F330\"))"
   ]
  },
  {
   "cell_type": "markdown",
   "metadata": {},
   "source": [
    "## 4. Cryptography"
   ]
  },
  {
   "cell_type": "markdown",
   "metadata": {},
   "source": [
    "### 1."
   ]
  },
  {
   "cell_type": "markdown",
   "metadata": {},
   "source": [
    "Given four sets of characters (lowercase, uppercase, digits, punctuation) there are 15 different combinations of character sets we can choose (assuming we have to choose at least one set). One way to indicate our choice is to use a binary mask, where a number like 0b1010 indicates that we'd like a random password with lowercase letters and digits only. Likewise, the number 0b11 indicates we only want digits and punctuation. Here's one way to implement this securely: "
   ]
  },
  {
   "cell_type": "code",
   "execution_count": 18,
   "metadata": {
    "collapsed": false
   },
   "outputs": [],
   "source": [
    "from itertools import compress\n",
    "import random\n",
    "import string\n",
    "\n",
    "char_list = [string.ascii_lowercase, string.ascii_uppercase,\n",
    "                 string.digits, string.punctuation + \" \"]\n",
    "\n",
    "def gen_password(char_no, length):\n",
    "\n",
    "    # 0b1010 -> [1, 0, 1, 0]\n",
    "    bitmask = [(char_no >> bit) & 1 for bit in range(3, -1, -1)]\n",
    "\n",
    "    # apply bitmask to char_list\n",
    "    chars = \"\".join(compress(char_list, bitmask))\n",
    "\n",
    "    # generate a random password\n",
    "    return \"\".join(random.SystemRandom().choice(chars) for _ in range(length))"
   ]
  },
  {
   "cell_type": "code",
   "execution_count": 19,
   "metadata": {
    "collapsed": false
   },
   "outputs": [
    {
     "data": {
      "text/plain": [
       "u'thh6a5qtwmize6isxg8t'"
      ]
     },
     "execution_count": 19,
     "metadata": {},
     "output_type": "execute_result"
    }
   ],
   "source": [
    "gen_password(0b1010, 20)"
   ]
  },
  {
   "cell_type": "code",
   "execution_count": 20,
   "metadata": {
    "collapsed": false
   },
   "outputs": [
    {
     "data": {
      "text/plain": [
       "u'BSxMqrQWiIqVTxIPqNyFLQJrShobOzKUMhhgMFmvmTQtEJAJBefhrjGGuUHs'"
      ]
     },
     "execution_count": 20,
     "metadata": {},
     "output_type": "execute_result"
    }
   ],
   "source": [
    "gen_password(0b1100, 60)"
   ]
  },
  {
   "cell_type": "code",
   "execution_count": 21,
   "metadata": {
    "collapsed": false
   },
   "outputs": [
    {
     "data": {
      "text/plain": [
       "u':#:\\\\_-<.:_(+7?2~'"
      ]
     },
     "execution_count": 21,
     "metadata": {},
     "output_type": "execute_result"
    }
   ],
   "source": [
    "gen_password(0b11, 16)"
   ]
  },
  {
   "cell_type": "markdown",
   "metadata": {},
   "source": [
    "We use a list comprehension to turn the binary `char_no` into a \"bit array\" (so `0b1010` becomes `[1, 0, 1, 0]`). The `itertools.compress` function applies the bitmask to the list of character sets."
   ]
  },
  {
   "cell_type": "markdown",
   "metadata": {},
   "source": [
    "If you need a quick command line function, you can use the following one-liner (with modifications depending on your desired password length and character set):"
   ]
  },
  {
   "cell_type": "code",
   "execution_count": 22,
   "metadata": {
    "collapsed": false
   },
   "outputs": [
    {
     "data": {
      "text/plain": [
       "u'&o&)!6sE,SidD|VvcK{!'"
      ]
     },
     "execution_count": 22,
     "metadata": {},
     "output_type": "execute_result"
    }
   ],
   "source": [
    "''.join(random.SystemRandom().choice(string.printable) for _ in range(20))"
   ]
  },
  {
   "cell_type": "markdown",
   "metadata": {},
   "source": [
    "### 3"
   ]
  },
  {
   "cell_type": "markdown",
   "metadata": {},
   "source": [
    "**a.** We need to generate a list of dictionaries of all possible permutations with 3-bit block size (so using numbers in the range `0` through `7`):"
   ]
  },
  {
   "cell_type": "code",
   "execution_count": 23,
   "metadata": {
    "collapsed": false
   },
   "outputs": [],
   "source": [
    "from itertools import permutations\n",
    "\n",
    "p = ({i:j for i, j in zip(range(8), i)} for i in permutations(range(8)))"
   ]
  },
  {
   "cell_type": "markdown",
   "metadata": {},
   "source": [
    "**b**. Since we're using a 3-bit block size, we have to encrypt our data 3 bits at a time. We won't go through the trouble of building a function that regroups bytes (see exercise 1.5, which shows you how to make 6-bit groups out of regular bytes using bitwise operations). This `encrypt` function works with 3-bit numbers directly:"
   ]
  },
  {
   "cell_type": "code",
   "execution_count": 24,
   "metadata": {
    "collapsed": true
   },
   "outputs": [],
   "source": [
    "from itertools import islice\n",
    "\n",
    "def encrypt(data, key):\n",
    "    \"\"\"data is a 3-bit number and key is \n",
    "    an integer in range(40321)\"\"\"\n",
    "    \n",
    "    p = ({i:j for i, j in zip(range(8), i)} for i in permutations(range(8)))\n",
    "    \n",
    "    return next(islice(p, key, None))[data]"
   ]
  },
  {
   "cell_type": "code",
   "execution_count": 25,
   "metadata": {
    "collapsed": false
   },
   "outputs": [
    {
     "data": {
      "text/plain": [
       "2"
      ]
     },
     "execution_count": 25,
     "metadata": {},
     "output_type": "execute_result"
    }
   ],
   "source": [
    "encrypt(4, 2210)"
   ]
  },
  {
   "cell_type": "markdown",
   "metadata": {},
   "source": [
    "**c**. Permutations grow extremely fast. A 3-bit block cipher has `(2**3)! = 40320` possible mappings (dictionaries) but a 4-bit block cipher has around `2.1e13` mappings, which would put a significant strain on the computer's resources. Python's generators are helpful because they won't store the entire list of dictionaries in memory, but accessing arbitrary dictionaries is still a very slow operation for large indices (keys)."
   ]
  },
  {
   "cell_type": "markdown",
   "metadata": {},
   "source": [
    "### 7."
   ]
  },
  {
   "cell_type": "markdown",
   "metadata": {},
   "source": [
    "The modulus operation `mod n` only affects numbers that are larger than `n`. If `m**e < n`, the `mod` operation during encryption does nothing. For example:"
   ]
  },
  {
   "cell_type": "code",
   "execution_count": 26,
   "metadata": {
    "collapsed": false
   },
   "outputs": [
    {
     "data": {
      "text/plain": [
       "True"
      ]
     },
     "execution_count": 26,
     "metadata": {},
     "output_type": "execute_result"
    }
   ],
   "source": [
    "m = 2\n",
    "e = 3\n",
    "n = 221\n",
    "\n",
    "m**e < n"
   ]
  },
  {
   "cell_type": "code",
   "execution_count": 27,
   "metadata": {
    "collapsed": false
   },
   "outputs": [
    {
     "data": {
      "text/plain": [
       "True"
      ]
     },
     "execution_count": 27,
     "metadata": {},
     "output_type": "execute_result"
    }
   ],
   "source": [
    "c = pow(m, e, n)\n",
    "c == pow(m, e)"
   ]
  },
  {
   "cell_type": "markdown",
   "metadata": {},
   "source": [
    "This means we can easily reverse the encryption process by taking the `e`th root of the ciphertext:"
   ]
  },
  {
   "cell_type": "code",
   "execution_count": 28,
   "metadata": {
    "collapsed": false
   },
   "outputs": [
    {
     "data": {
      "text/plain": [
       "True"
      ]
     },
     "execution_count": 28,
     "metadata": {},
     "output_type": "execute_result"
    }
   ],
   "source": [
    "pow(c, 1./e) == m"
   ]
  },
  {
   "cell_type": "markdown",
   "metadata": {
    "collapsed": true
   },
   "source": [
    "## 5. Networking"
   ]
  },
  {
   "cell_type": "markdown",
   "metadata": {
    "collapsed": true
   },
   "source": [
    "### 4."
   ]
  },
  {
   "cell_type": "markdown",
   "metadata": {},
   "source": [
    "An IPv4 address has the form `X.X.X.X`, where each `X` represents a byte. You can easily convert this to an integer:"
   ]
  },
  {
   "cell_type": "code",
   "execution_count": 29,
   "metadata": {
    "collapsed": true
   },
   "outputs": [],
   "source": [
    "def IPv4_to_int(address):\n",
    "    return reduce(lambda x, y: (int(x) << 8) | int(y), address.split(\".\"))"
   ]
  },
  {
   "cell_type": "code",
   "execution_count": 30,
   "metadata": {
    "collapsed": false
   },
   "outputs": [
    {
     "data": {
      "text/plain": [
       "3232236033"
      ]
     },
     "execution_count": 30,
     "metadata": {},
     "output_type": "execute_result"
    }
   ],
   "source": [
    "IPv4_to_int(\"192.168.2.1\")"
   ]
  },
  {
   "cell_type": "markdown",
   "metadata": {},
   "source": [
    "Likewise for IPv6:"
   ]
  },
  {
   "cell_type": "code",
   "execution_count": 31,
   "metadata": {
    "collapsed": false
   },
   "outputs": [],
   "source": [
    "def IPv6_to_int(address):\n",
    "    addr = [int(chunk, 16) for chunk in address.split(\":\")]\n",
    "    return reduce(lambda x, y: (x << 16) | y, addr)"
   ]
  },
  {
   "cell_type": "code",
   "execution_count": 32,
   "metadata": {
    "collapsed": false
   },
   "outputs": [
    {
     "data": {
      "text/plain": [
       "42544660792382819006154058011833243217L"
      ]
     },
     "execution_count": 32,
     "metadata": {},
     "output_type": "execute_result"
    }
   ],
   "source": [
    "IPv6_to_int(\"2001:cdba:0000:0000:0000:0000:3257:9651\")"
   ]
  },
  {
   "cell_type": "markdown",
   "metadata": {},
   "source": [
    "For a module with IP utilities, see `ipaddress`, which is part of the Python 3 standard library, and is available for Python 2 with `$ pip install ipaddress`. "
   ]
  },
  {
   "cell_type": "markdown",
   "metadata": {},
   "source": [
    "### 5."
   ]
  },
  {
   "cell_type": "markdown",
   "metadata": {},
   "source": [
    "There are a few ways you could do this. I prefer to use the `dig` command because it tends to be the most informative of all DNS utilities. For the root servers: "
   ]
  },
  {
   "cell_type": "code",
   "execution_count": 33,
   "metadata": {
    "collapsed": false
   },
   "outputs": [
    {
     "name": "stdout",
     "output_type": "stream",
     "text": [
      "\r\n",
      "; <<>> DiG 9.8.3-P1 <<>>\r\n",
      ";; global options: +cmd\r\n",
      ";; Got answer:\r\n",
      ";; ->>HEADER<<- opcode: QUERY, status: NOERROR, id: 21704\r\n",
      ";; flags: qr rd ra; QUERY: 1, ANSWER: 13, AUTHORITY: 0, ADDITIONAL: 14\r\n",
      "\r\n",
      ";; QUESTION SECTION:\r\n",
      ";.\t\t\t\tIN\tNS\r\n",
      "\r\n",
      ";; ANSWER SECTION:\r\n",
      ".\t\t\t6145\tIN\tNS\ti.root-servers.net.\r\n",
      ".\t\t\t6145\tIN\tNS\tj.root-servers.net.\r\n",
      ".\t\t\t6145\tIN\tNS\tk.root-servers.net.\r\n",
      ".\t\t\t6145\tIN\tNS\tl.root-servers.net.\r\n",
      ".\t\t\t6145\tIN\tNS\tm.root-servers.net.\r\n",
      ".\t\t\t6145\tIN\tNS\ta.root-servers.net.\r\n",
      ".\t\t\t6145\tIN\tNS\tb.root-servers.net.\r\n",
      ".\t\t\t6145\tIN\tNS\tc.root-servers.net.\r\n",
      ".\t\t\t6145\tIN\tNS\td.root-servers.net.\r\n",
      ".\t\t\t6145\tIN\tNS\te.root-servers.net.\r\n",
      ".\t\t\t6145\tIN\tNS\tf.root-servers.net.\r\n",
      ".\t\t\t6145\tIN\tNS\tg.root-servers.net.\r\n",
      ".\t\t\t6145\tIN\tNS\th.root-servers.net.\r\n",
      "\r\n",
      ";; ADDITIONAL SECTION:\r\n",
      "j.root-servers.net.\t3770\tIN\tA\t192.58.128.30\r\n",
      "k.root-servers.net.\t13544\tIN\tA\t193.0.14.129\r\n",
      "l.root-servers.net.\t3770\tIN\tA\t199.7.83.42\r\n",
      "m.root-servers.net.\t9837\tIN\tA\t202.12.27.33\r\n",
      "m.root-servers.net.\t2879\tIN\tAAAA\t2001:dc3::35\r\n",
      "a.root-servers.net.\t1859\tIN\tA\t198.41.0.4\r\n",
      "a.root-servers.net.\t8520\tIN\tAAAA\t2001:503:ba3e::2:30\r\n",
      "b.root-servers.net.\t3769\tIN\tA\t192.228.79.201\r\n",
      "c.root-servers.net.\t3769\tIN\tA\t192.33.4.12\r\n",
      "c.root-servers.net.\t4860\tIN\tAAAA\t2001:500:2::c\r\n",
      "d.root-servers.net.\t3770\tIN\tA\t199.7.91.13\r\n",
      "e.root-servers.net.\t3769\tIN\tA\t192.203.230.10\r\n",
      "e.root-servers.net.\t4860\tIN\tAAAA\t2001:500:a8::e\r\n",
      "f.root-servers.net.\t3770\tIN\tA\t192.5.5.241\r\n",
      "\r\n",
      ";; Query time: 52 msec\r\n",
      ";; SERVER: 192.168.2.1#53(192.168.2.1)\r\n",
      ";; WHEN: Mon May 22 13:06:33 2017\r\n",
      ";; MSG SIZE  rcvd: 500\r\n",
      "\r\n"
     ]
    }
   ],
   "source": [
    "! dig"
   ]
  },
  {
   "cell_type": "markdown",
   "metadata": {},
   "source": [
    "For the `com.` servers:"
   ]
  },
  {
   "cell_type": "code",
   "execution_count": 34,
   "metadata": {
    "collapsed": false
   },
   "outputs": [
    {
     "name": "stdout",
     "output_type": "stream",
     "text": [
      "\r\n",
      "; <<>> DiG 9.8.3-P1 <<>> com. NS\r\n",
      ";; global options: +cmd\r\n",
      ";; Got answer:\r\n",
      ";; ->>HEADER<<- opcode: QUERY, status: NOERROR, id: 44692\r\n",
      ";; flags: qr rd ra; QUERY: 1, ANSWER: 13, AUTHORITY: 0, ADDITIONAL: 3\r\n",
      "\r\n",
      ";; QUESTION SECTION:\r\n",
      ";com.\t\t\t\tIN\tNS\r\n",
      "\r\n",
      ";; ANSWER SECTION:\r\n",
      "com.\t\t\t7487\tIN\tNS\th.gtld-servers.net.\r\n",
      "com.\t\t\t7487\tIN\tNS\tk.gtld-servers.net.\r\n",
      "com.\t\t\t7487\tIN\tNS\tf.gtld-servers.net.\r\n",
      "com.\t\t\t7487\tIN\tNS\tm.gtld-servers.net.\r\n",
      "com.\t\t\t7487\tIN\tNS\te.gtld-servers.net.\r\n",
      "com.\t\t\t7487\tIN\tNS\tl.gtld-servers.net.\r\n",
      "com.\t\t\t7487\tIN\tNS\ti.gtld-servers.net.\r\n",
      "com.\t\t\t7487\tIN\tNS\tc.gtld-servers.net.\r\n",
      "com.\t\t\t7487\tIN\tNS\tb.gtld-servers.net.\r\n",
      "com.\t\t\t7487\tIN\tNS\tj.gtld-servers.net.\r\n",
      "com.\t\t\t7487\tIN\tNS\td.gtld-servers.net.\r\n",
      "com.\t\t\t7487\tIN\tNS\tg.gtld-servers.net.\r\n",
      "com.\t\t\t7487\tIN\tNS\ta.gtld-servers.net.\r\n",
      "\r\n",
      ";; ADDITIONAL SECTION:\r\n",
      "k.gtld-servers.net.\t13982\tIN\tA\t192.52.178.30\r\n",
      "f.gtld-servers.net.\t12137\tIN\tA\t192.35.51.30\r\n",
      "e.gtld-servers.net.\t3178\tIN\tA\t192.12.94.30\r\n",
      "\r\n",
      ";; Query time: 51 msec\r\n",
      ";; SERVER: 192.168.2.1#53(192.168.2.1)\r\n",
      ";; WHEN: Mon May 22 13:06:34 2017\r\n",
      ";; MSG SIZE  rcvd: 293\r\n",
      "\r\n"
     ]
    }
   ],
   "source": [
    "! dig com. NS"
   ]
  },
  {
   "cell_type": "markdown",
   "metadata": {},
   "source": [
    "### 6."
   ]
  },
  {
   "cell_type": "code",
   "execution_count": 35,
   "metadata": {
    "collapsed": false
   },
   "outputs": [],
   "source": [
    "import urlparse\n",
    "\n",
    "def simplify_url(url, size=1):\n",
    "    \"\"\" size is an integer that controls\n",
    "    the complexity of the output URL:\n",
    "    < 1 : no change\n",
    "    1 : query removed\n",
    "    2 : query and path removed\n",
    "    > 2 : query, path, and scheme removed\n",
    "    \"\"\"\n",
    "    \n",
    "    p = urlparse.urlparse(url)\n",
    "    \n",
    "    if size < 1:\n",
    "        return url\n",
    "    elif size == 1:\n",
    "        return \"{uri.scheme}://{uri.hostname}{uri.path}\".format(uri=p)\n",
    "    elif size == 2:\n",
    "        return \"{uri.scheme}://{uri.hostname}\".format(uri=p)\n",
    "    elif size > 2:\n",
    "        return p.hostname"
   ]
  },
  {
   "cell_type": "code",
   "execution_count": 36,
   "metadata": {
    "collapsed": false
   },
   "outputs": [
    {
     "name": "stdout",
     "output_type": "stream",
     "text": [
      "http://www.example.com/path/to/page.html?arg1=a&arg2=b\n",
      "http://www.example.com/path/to/page.html\n",
      "http://www.example.com\n",
      "www.example.com\n"
     ]
    }
   ],
   "source": [
    "url = \"http://www.example.com/path/to/page.html?arg1=a&arg2=b\"\n",
    "\n",
    "for i in range(4):\n",
    "    print simplify_url(url, size=i)"
   ]
  },
  {
   "cell_type": "markdown",
   "metadata": {},
   "source": [
    "### 7."
   ]
  },
  {
   "cell_type": "code",
   "execution_count": 37,
   "metadata": {
    "collapsed": false
   },
   "outputs": [
    {
     "name": "stdout",
     "output_type": "stream",
     "text": [
      "IP Address: 167.206.145.109\n"
     ]
    }
   ],
   "source": [
    "import socket\n",
    "\n",
    "# carriage return + line feed\n",
    "CRLF = \"\\r\\n\"\n",
    "\n",
    "# create a socket using the AF_INET (*IPv4*) address family\n",
    "# and the SOCK_STREAM transport protocol (*TCP*)\n",
    "s = socket.socket(socket.AF_INET, socket.SOCK_STREAM)\n",
    "\n",
    "# connect to port 80 (the HTTP port) on www.google.com\n",
    "s.connect(('www.google.com', 80))\n",
    "\n",
    "# print the remote IP address\n",
    "print \"IP Address:\", s.getpeername()[0]\n",
    "\n",
    "# form and send an HTTP GET request\n",
    "s.send(\"GET / HTTP/1.1{n}Host: www.google.com{n}{n}\".format(n=CRLF))\n",
    "\n",
    "# receive data in two chunks of 4096 bytes, \n",
    "# which should be enough to get the <title>\n",
    "response = s.recv(4096)\n",
    "response += s.recv(4096)\n",
    "\n",
    "# finally, close the TCP connection\n",
    "s.close()"
   ]
  },
  {
   "cell_type": "code",
   "execution_count": 38,
   "metadata": {
    "collapsed": false
   },
   "outputs": [
    {
     "name": "stdout",
     "output_type": "stream",
     "text": [
      "HTTP/1.1 200 OK\r\n",
      "Date: Mon, 22 May 2017 17:06:34 GMT\r\n",
      "Expires: -1\r\n",
      "Cache-Control: private, max-age=0\r\n",
      "Content-Type: text/html; charset=ISO-8859-1\r\n",
      "P3P: CP=\"This is not a P3P policy! See https://www.google.com/support/accounts/answer/151657?hl=en for more info.\"\r\n",
      "Server: gws\r\n",
      "X-XSS-Protection: 1; mode=block\r\n",
      "X-Frame-Options: SAMEORIGIN\r\n",
      "Set-Cookie: NID=103=eOEAA2srIUBDpggdKbh2QD6R59reK8LWb3h1UZHJKzgOMMqUnfbi1qyg24XfrmMmdEjRdy0x9XvKxVmEloJx5-glyLIX8SBTJPTHT-aqQcfxV5Tcx4jyYboriKkFFUFidBbeBQuk0wYyzkwxXQ; expires=Tue, 21-Nov-2017 17:06:34 GMT; path=/; domain=.google.com; HttpOnly\r\n",
      "Accept-Ranges: none\r\n",
      "Vary: Accept-Encoding\r\n",
      "Transfer-Encoding: chunked\r\n",
      "\r\n",
      "469\r\n",
      "<!doctype html><html itemscope=\"\" itemtype=\"http://schema.org/WebPage\" lang=\"en\"><head><meta content=\"Search the world's information, including webpages, images, videos and more. Google has many special features to help you find exactly what you're looking for.\" name=\"description\"><meta content=\"noodp\" name=\"robots\"><meta content=\"text/html; charset=UTF-8\" http-equiv=\"Content-Type\"><meta content=\"/logos/doodles/2017/richard-oakes-75th-birthday-5656537195347968.3-l.png\" itemprop=\"image\"><meta content=\"Richard Oakes&#8217; 75th Birthday\" property=\"twitter:title\"><meta content=\"Richard Oakes&#8217; 75th Birthday #GoogleDoodle\" property=\"twitter:description\"><meta content=\"Richard Oakes&#8217; 75th Birthday #GoogleDoodle\" property=\"og:description\"><meta content=\"summary_large_image\" property=\"twitter:card\"><meta content=\"@GoogleDoodles\" property=\"twitter:site\"><meta content=\"https://www.google.com/logos/doodles/2017/richard-oakes-75th-birthday-5656537195347968.3-l.png\" property=\"twitter:image\"><meta content=\"https://www.google.com/logos/doodles/2017/richard-oakes-75th-birthday-5656537195347968.3-l.png\" property=\"og:\r\n",
      "20a7\r\n",
      "image\"><meta content=\"500\" property=\"og:image:width\"><meta content=\"200\" property=\"og:image:height\"><title>Google</title><script>(function(){window.google={kEI:'mhojWbPsE4fqUuqBlIAC',kEXPI:'201761,3700\n"
     ]
    }
   ],
   "source": [
    "print response[:2000]"
   ]
  },
  {
   "cell_type": "code",
   "execution_count": 39,
   "metadata": {
    "collapsed": false
   },
   "outputs": [
    {
     "name": "stdout",
     "output_type": "stream",
     "text": [
      "Google\n"
     ]
    }
   ],
   "source": [
    "from bs4 import BeautifulSoup\n",
    "\n",
    "soup = BeautifulSoup(response, \"lxml\")\n",
    "print soup.title.text"
   ]
  }
 ],
 "metadata": {
  "anaconda-cloud": {},
  "kernelspec": {
   "display_name": "Python [Root]",
   "language": "python",
   "name": "Python [Root]"
  },
  "language_info": {
   "codemirror_mode": {
    "name": "ipython",
    "version": 2
   },
   "file_extension": ".py",
   "mimetype": "text/x-python",
   "name": "python",
   "nbconvert_exporter": "python",
   "pygments_lexer": "ipython2",
   "version": "2.7.12"
  }
 },
 "nbformat": 4,
 "nbformat_minor": 0
}
